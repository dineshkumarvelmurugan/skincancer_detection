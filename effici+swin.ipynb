{
 "cells": [
  {
   "cell_type": "code",
   "execution_count": 1,
   "id": "9fc5f0bb-6b93-47c5-8405-b6926915c4a2",
   "metadata": {},
   "outputs": [
    {
     "name": "stdout",
     "output_type": "stream",
     "text": [
      "\u001b[1;31merror\u001b[0m: \u001b[1mexternally-managed-environment\u001b[0m\n",
      "\n",
      "\u001b[31m×\u001b[0m This environment is externally managed\n",
      "\u001b[31m╰─>\u001b[0m To install Python packages system-wide, try apt install\n",
      "\u001b[31m   \u001b[0m python3-xyz, where xyz is the package you are trying to\n",
      "\u001b[31m   \u001b[0m install.\n",
      "\u001b[31m   \u001b[0m \n",
      "\u001b[31m   \u001b[0m If you wish to install a non-Debian-packaged Python package,\n",
      "\u001b[31m   \u001b[0m create a virtual environment using python3 -m venv path/to/venv.\n",
      "\u001b[31m   \u001b[0m Then use path/to/venv/bin/python and path/to/venv/bin/pip. Make\n",
      "\u001b[31m   \u001b[0m sure you have python3-full installed.\n",
      "\u001b[31m   \u001b[0m \n",
      "\u001b[31m   \u001b[0m If you wish to install a non-Debian packaged Python application,\n",
      "\u001b[31m   \u001b[0m it may be easiest to use pipx install xyz, which will manage a\n",
      "\u001b[31m   \u001b[0m virtual environment for you. Make sure you have pipx installed.\n",
      "\u001b[31m   \u001b[0m \n",
      "\u001b[31m   \u001b[0m See /usr/share/doc/python3.12/README.venv for more information.\n",
      "\n",
      "\u001b[1;35mnote\u001b[0m: If you believe this is a mistake, please contact your Python installation or OS distribution provider. You can override this, at the risk of breaking your Python installation or OS, by passing --break-system-packages.\n",
      "\u001b[1;36mhint\u001b[0m: See PEP 668 for the detailed specification.\n",
      "Classes: ['akiec' 'bcc' 'bkl' 'df' 'mel' 'nv' 'vasc'] \n",
      "#classes: 7  #images: 9701\n"
     ]
    },
    {
     "name": "stderr",
     "output_type": "stream",
     "text": [
      "/tmp/ipykernel_574134/32103303.py:86: UserWarning: Argument(s) 'min_holes, max_holes, min_height, max_height, min_width, max_width, fill_value' are not valid for transform CoarseDropout\n",
      "  A.CoarseDropout(\n"
     ]
    },
    {
     "data": {
      "application/vnd.jupyter.widget-view+json": {
       "model_id": "92533ef185e94bb8be8bb04d1896cd35",
       "version_major": 2,
       "version_minor": 0
      },
      "text/plain": [
       "model.safetensors:   0%|          | 0.00/96.5M [00:00<?, ?B/s]"
      ]
     },
     "metadata": {},
     "output_type": "display_data"
    },
    {
     "name": "stderr",
     "output_type": "stream",
     "text": [
      "                                                                                              "
     ]
    },
    {
     "name": "stdout",
     "output_type": "stream",
     "text": [
      "Epoch 001/60 | Train Loss: 1.0898 Acc: 0.3811 | Val Loss: 0.6590 Acc: 0.6094 BalAcc: 0.5984 MacroF1: 0.4488 | LR: 0.000200\n"
     ]
    },
    {
     "name": "stderr",
     "output_type": "stream",
     "text": [
      "                                                                                              "
     ]
    },
    {
     "name": "stdout",
     "output_type": "stream",
     "text": [
      "Epoch 002/60 | Train Loss: 0.9248 Acc: 0.4755 | Val Loss: 0.5844 Acc: 0.6359 BalAcc: 0.6029 MacroF1: 0.4603 | LR: 0.000199\n"
     ]
    },
    {
     "name": "stderr",
     "output_type": "stream",
     "text": [
      "                                                                                              "
     ]
    },
    {
     "name": "stdout",
     "output_type": "stream",
     "text": [
      "Epoch 003/60 | Train Loss: 0.9011 Acc: 0.4940 | Val Loss: 0.4786 Acc: 0.6568 BalAcc: 0.6328 MacroF1: 0.5159 | LR: 0.000199\n"
     ]
    },
    {
     "name": "stderr",
     "output_type": "stream",
     "text": [
      "                                                                                              "
     ]
    },
    {
     "name": "stdout",
     "output_type": "stream",
     "text": [
      "Epoch 004/60 | Train Loss: 0.9102 Acc: 0.5062 | Val Loss: 0.3716 Acc: 0.7358 BalAcc: 0.6740 MacroF1: 0.5873 | LR: 0.000200\n"
     ]
    },
    {
     "name": "stderr",
     "output_type": "stream",
     "text": [
      "                                                                                              "
     ]
    },
    {
     "name": "stdout",
     "output_type": "stream",
     "text": [
      "Epoch 005/60 | Train Loss: 0.7768 Acc: 0.5832 | Val Loss: 0.4000 Acc: 0.7448 BalAcc: 0.7122 MacroF1: 0.5747 | LR: 0.000199\n"
     ]
    },
    {
     "name": "stderr",
     "output_type": "stream",
     "text": [
      "                                                                                              "
     ]
    },
    {
     "name": "stdout",
     "output_type": "stream",
     "text": [
      "Epoch 006/60 | Train Loss: 0.7125 Acc: 0.6218 | Val Loss: 0.3211 Acc: 0.7602 BalAcc: 0.7474 MacroF1: 0.6734 | LR: 0.000199\n"
     ]
    },
    {
     "name": "stderr",
     "output_type": "stream",
     "text": [
      "                                                                                              "
     ]
    },
    {
     "name": "stdout",
     "output_type": "stream",
     "text": [
      "Epoch 007/60 | Train Loss: 0.6782 Acc: 0.6367 | Val Loss: 0.3467 Acc: 0.7056 BalAcc: 0.7313 MacroF1: 0.6512 | LR: 0.000198\n"
     ]
    },
    {
     "name": "stderr",
     "output_type": "stream",
     "text": [
      "                                                                                              "
     ]
    },
    {
     "name": "stdout",
     "output_type": "stream",
     "text": [
      "Epoch 008/60 | Train Loss: 0.6449 Acc: 0.6562 | Val Loss: 0.3776 Acc: 0.7314 BalAcc: 0.7458 MacroF1: 0.6235 | LR: 0.000196\n"
     ]
    },
    {
     "name": "stderr",
     "output_type": "stream",
     "text": [
      "                                                                                              "
     ]
    },
    {
     "name": "stdout",
     "output_type": "stream",
     "text": [
      "Epoch 009/60 | Train Loss: 0.6248 Acc: 0.6598 | Val Loss: 0.3647 Acc: 0.7523 BalAcc: 0.7482 MacroF1: 0.6427 | LR: 0.000195\n"
     ]
    },
    {
     "name": "stderr",
     "output_type": "stream",
     "text": [
      "                                                                                               "
     ]
    },
    {
     "name": "stdout",
     "output_type": "stream",
     "text": [
      "Epoch 010/60 | Train Loss: 0.5800 Acc: 0.6896 | Val Loss: 0.2905 Acc: 0.7214 BalAcc: 0.7490 MacroF1: 0.6687 | LR: 0.000193\n"
     ]
    },
    {
     "name": "stderr",
     "output_type": "stream",
     "text": [
      "                                                                                               "
     ]
    },
    {
     "name": "stdout",
     "output_type": "stream",
     "text": [
      "Epoch 011/60 | Train Loss: 0.5608 Acc: 0.7010 | Val Loss: 0.2796 Acc: 0.7815 BalAcc: 0.7460 MacroF1: 0.7036 | LR: 0.000191\n"
     ]
    },
    {
     "name": "stderr",
     "output_type": "stream",
     "text": [
      "                                                                                               "
     ]
    },
    {
     "name": "stdout",
     "output_type": "stream",
     "text": [
      "Epoch 012/60 | Train Loss: 0.5826 Acc: 0.6822 | Val Loss: 0.2568 Acc: 0.8073 BalAcc: 0.7617 MacroF1: 0.7104 | LR: 0.000189\n"
     ]
    },
    {
     "name": "stderr",
     "output_type": "stream",
     "text": [
      "                                                                                               "
     ]
    },
    {
     "name": "stdout",
     "output_type": "stream",
     "text": [
      "Epoch 013/60 | Train Loss: 0.5589 Acc: 0.6952 | Val Loss: 0.3078 Acc: 0.7300 BalAcc: 0.7412 MacroF1: 0.7051 | LR: 0.000186\n"
     ]
    },
    {
     "name": "stderr",
     "output_type": "stream",
     "text": [
      "                                                                                               "
     ]
    },
    {
     "name": "stdout",
     "output_type": "stream",
     "text": [
      "Epoch 014/60 | Train Loss: 0.5561 Acc: 0.6886 | Val Loss: 0.2867 Acc: 0.7946 BalAcc: 0.7584 MacroF1: 0.6953 | LR: 0.000183\n"
     ]
    },
    {
     "name": "stderr",
     "output_type": "stream",
     "text": [
      "                                                                                               "
     ]
    },
    {
     "name": "stdout",
     "output_type": "stream",
     "text": [
      "Epoch 015/60 | Train Loss: 0.5141 Acc: 0.7208 | Val Loss: 0.3523 Acc: 0.7774 BalAcc: 0.7652 MacroF1: 0.6725 | LR: 0.000180\n"
     ]
    },
    {
     "name": "stderr",
     "output_type": "stream",
     "text": [
      "                                                                                               "
     ]
    },
    {
     "name": "stdout",
     "output_type": "stream",
     "text": [
      "Epoch 016/60 | Train Loss: 0.4941 Acc: 0.7255 | Val Loss: 0.3232 Acc: 0.7815 BalAcc: 0.7660 MacroF1: 0.6655 | LR: 0.000177\n"
     ]
    },
    {
     "name": "stderr",
     "output_type": "stream",
     "text": [
      "                                                                                               "
     ]
    },
    {
     "name": "stdout",
     "output_type": "stream",
     "text": [
      "Epoch 017/60 | Train Loss: 0.4846 Acc: 0.7263 | Val Loss: 0.3141 Acc: 0.8169 BalAcc: 0.7336 MacroF1: 0.7177 | LR: 0.000173\n"
     ]
    },
    {
     "name": "stderr",
     "output_type": "stream",
     "text": [
      "                                                                                               "
     ]
    },
    {
     "name": "stdout",
     "output_type": "stream",
     "text": [
      "Epoch 018/60 | Train Loss: 0.4894 Acc: 0.7194 | Val Loss: 0.2603 Acc: 0.8207 BalAcc: 0.7138 MacroF1: 0.7241 | LR: 0.000169\n"
     ]
    },
    {
     "name": "stderr",
     "output_type": "stream",
     "text": [
      "                                                                                               "
     ]
    },
    {
     "name": "stdout",
     "output_type": "stream",
     "text": [
      "Epoch 019/60 | Train Loss: 0.4832 Acc: 0.7279 | Val Loss: 0.2753 Acc: 0.8138 BalAcc: 0.7656 MacroF1: 0.7230 | LR: 0.000165\n"
     ]
    },
    {
     "name": "stderr",
     "output_type": "stream",
     "text": [
      "                                                                                               "
     ]
    },
    {
     "name": "stdout",
     "output_type": "stream",
     "text": [
      "Epoch 020/60 | Train Loss: 0.4631 Acc: 0.7368 | Val Loss: 0.2725 Acc: 0.8148 BalAcc: 0.7196 MacroF1: 0.7124 | LR: 0.000161\n"
     ]
    },
    {
     "name": "stderr",
     "output_type": "stream",
     "text": [
      "                                                                                               "
     ]
    },
    {
     "name": "stdout",
     "output_type": "stream",
     "text": [
      "Epoch 021/60 | Train Loss: 0.4553 Acc: 0.7416 | Val Loss: 0.2845 Acc: 0.8052 BalAcc: 0.7425 MacroF1: 0.7175 | LR: 0.000157\n"
     ]
    },
    {
     "name": "stderr",
     "output_type": "stream",
     "text": [
      "                                                                                               "
     ]
    },
    {
     "name": "stdout",
     "output_type": "stream",
     "text": [
      "Epoch 022/60 | Train Loss: 0.4407 Acc: 0.7444 | Val Loss: 0.2745 Acc: 0.8145 BalAcc: 0.7490 MacroF1: 0.7387 | LR: 0.000153\n"
     ]
    },
    {
     "name": "stderr",
     "output_type": "stream",
     "text": [
      "                                                                                               "
     ]
    },
    {
     "name": "stdout",
     "output_type": "stream",
     "text": [
      "Epoch 023/60 | Train Loss: 0.4532 Acc: 0.7353 | Val Loss: 0.2544 Acc: 0.8255 BalAcc: 0.7342 MacroF1: 0.7368 | LR: 0.000148\n"
     ]
    },
    {
     "name": "stderr",
     "output_type": "stream",
     "text": [
      "                                                                                               "
     ]
    },
    {
     "name": "stdout",
     "output_type": "stream",
     "text": [
      "Epoch 024/60 | Train Loss: 0.4440 Acc: 0.7422 | Val Loss: 0.2284 Acc: 0.8303 BalAcc: 0.7808 MacroF1: 0.7664 | LR: 0.000143\n"
     ]
    },
    {
     "name": "stderr",
     "output_type": "stream",
     "text": [
      "                                                                                               "
     ]
    },
    {
     "name": "stdout",
     "output_type": "stream",
     "text": [
      "Epoch 025/60 | Train Loss: 0.4169 Acc: 0.7621 | Val Loss: 0.2155 Acc: 0.8330 BalAcc: 0.7482 MacroF1: 0.7463 | LR: 0.000138\n"
     ]
    },
    {
     "name": "stderr",
     "output_type": "stream",
     "text": [
      "                                                                                               "
     ]
    },
    {
     "name": "stdout",
     "output_type": "stream",
     "text": [
      "Epoch 026/60 | Train Loss: 0.4344 Acc: 0.7460 | Val Loss: 0.2105 Acc: 0.8379 BalAcc: 0.7554 MacroF1: 0.7532 | LR: 0.000133\n"
     ]
    },
    {
     "name": "stderr",
     "output_type": "stream",
     "text": [
      "                                                                                               "
     ]
    },
    {
     "name": "stdout",
     "output_type": "stream",
     "text": [
      "Epoch 027/60 | Train Loss: 0.4245 Acc: 0.7498 | Val Loss: 0.2858 Acc: 0.8117 BalAcc: 0.7690 MacroF1: 0.7453 | LR: 0.000128\n"
     ]
    },
    {
     "name": "stderr",
     "output_type": "stream",
     "text": [
      "                                                                                               "
     ]
    },
    {
     "name": "stdout",
     "output_type": "stream",
     "text": [
      "Epoch 028/60 | Train Loss: 0.4170 Acc: 0.7521 | Val Loss: 0.2677 Acc: 0.8296 BalAcc: 0.7550 MacroF1: 0.7460 | LR: 0.000123\n"
     ]
    },
    {
     "name": "stderr",
     "output_type": "stream",
     "text": [
      "                                                                                               "
     ]
    },
    {
     "name": "stdout",
     "output_type": "stream",
     "text": [
      "Epoch 029/60 | Train Loss: 0.3936 Acc: 0.7618 | Val Loss: 0.2680 Acc: 0.8176 BalAcc: 0.7651 MacroF1: 0.7462 | LR: 0.000118\n"
     ]
    },
    {
     "name": "stderr",
     "output_type": "stream",
     "text": [
      "                                                                                               "
     ]
    },
    {
     "name": "stdout",
     "output_type": "stream",
     "text": [
      "Epoch 030/60 | Train Loss: 0.3811 Acc: 0.7725 | Val Loss: 0.2111 Acc: 0.8502 BalAcc: 0.7698 MacroF1: 0.7581 | LR: 0.000113\n"
     ]
    },
    {
     "name": "stderr",
     "output_type": "stream",
     "text": [
      "                                                                                               "
     ]
    },
    {
     "name": "stdout",
     "output_type": "stream",
     "text": [
      "Epoch 031/60 | Train Loss: 0.3876 Acc: 0.7704 | Val Loss: 0.2917 Acc: 0.7984 BalAcc: 0.7942 MacroF1: 0.7424 | LR: 0.000108\n"
     ]
    },
    {
     "name": "stderr",
     "output_type": "stream",
     "text": [
      "                                                                                               "
     ]
    },
    {
     "name": "stdout",
     "output_type": "stream",
     "text": [
      "Epoch 032/60 | Train Loss: 0.3957 Acc: 0.7651 | Val Loss: 0.2327 Acc: 0.8327 BalAcc: 0.7569 MacroF1: 0.7648 | LR: 0.000102\n"
     ]
    },
    {
     "name": "stderr",
     "output_type": "stream",
     "text": [
      "                                                                                               "
     ]
    },
    {
     "name": "stdout",
     "output_type": "stream",
     "text": [
      "Epoch 033/60 | Train Loss: 0.3717 Acc: 0.7719 | Val Loss: 0.2154 Acc: 0.8461 BalAcc: 0.7667 MacroF1: 0.7668 | LR: 0.000097\n"
     ]
    },
    {
     "name": "stderr",
     "output_type": "stream",
     "text": [
      "                                                                                               "
     ]
    },
    {
     "name": "stdout",
     "output_type": "stream",
     "text": [
      "Epoch 034/60 | Train Loss: 0.3816 Acc: 0.7750 | Val Loss: 0.2531 Acc: 0.8097 BalAcc: 0.7636 MacroF1: 0.7502 | LR: 0.000092\n"
     ]
    },
    {
     "name": "stderr",
     "output_type": "stream",
     "text": [
      "                                                                                               "
     ]
    },
    {
     "name": "stdout",
     "output_type": "stream",
     "text": [
      "Epoch 035/60 | Train Loss: 0.3681 Acc: 0.7750 | Val Loss: 0.2448 Acc: 0.8533 BalAcc: 0.7519 MacroF1: 0.7644 | LR: 0.000087\n"
     ]
    },
    {
     "name": "stderr",
     "output_type": "stream",
     "text": [
      "                                                                                               "
     ]
    },
    {
     "name": "stdout",
     "output_type": "stream",
     "text": [
      "Epoch 036/60 | Train Loss: 0.3511 Acc: 0.7833 | Val Loss: 0.2342 Acc: 0.8671 BalAcc: 0.7445 MacroF1: 0.7652 | LR: 0.000082\n"
     ]
    },
    {
     "name": "stderr",
     "output_type": "stream",
     "text": [
      "                                                                                               "
     ]
    },
    {
     "name": "stdout",
     "output_type": "stream",
     "text": [
      "Epoch 037/60 | Train Loss: 0.3740 Acc: 0.7723 | Val Loss: 0.2347 Acc: 0.8262 BalAcc: 0.7581 MacroF1: 0.7574 | LR: 0.000077\n"
     ]
    },
    {
     "name": "stderr",
     "output_type": "stream",
     "text": [
      "                                                                                               "
     ]
    },
    {
     "name": "stdout",
     "output_type": "stream",
     "text": [
      "Epoch 038/60 | Train Loss: 0.3569 Acc: 0.7722 | Val Loss: 0.2209 Acc: 0.8502 BalAcc: 0.7768 MacroF1: 0.7793 | LR: 0.000072\n"
     ]
    },
    {
     "name": "stderr",
     "output_type": "stream",
     "text": [
      "                                                                                               "
     ]
    },
    {
     "name": "stdout",
     "output_type": "stream",
     "text": [
      "Epoch 039/60 | Train Loss: 0.3563 Acc: 0.7762 | Val Loss: 0.2149 Acc: 0.8719 BalAcc: 0.7573 MacroF1: 0.7854 | LR: 0.000067\n"
     ]
    },
    {
     "name": "stderr",
     "output_type": "stream",
     "text": [
      "                                                                                               "
     ]
    },
    {
     "name": "stdout",
     "output_type": "stream",
     "text": [
      "Epoch 040/60 | Train Loss: 0.3366 Acc: 0.7879 | Val Loss: 0.2283 Acc: 0.8554 BalAcc: 0.7752 MacroF1: 0.7747 | LR: 0.000062\n"
     ]
    },
    {
     "name": "stderr",
     "output_type": "stream",
     "text": [
      "                                                                                               "
     ]
    },
    {
     "name": "stdout",
     "output_type": "stream",
     "text": [
      "Epoch 041/60 | Train Loss: 0.3550 Acc: 0.7706 | Val Loss: 0.2314 Acc: 0.8358 BalAcc: 0.7865 MacroF1: 0.7764 | LR: 0.000058\n"
     ]
    },
    {
     "name": "stderr",
     "output_type": "stream",
     "text": [
      "                                                                                               "
     ]
    },
    {
     "name": "stdout",
     "output_type": "stream",
     "text": [
      "Epoch 042/60 | Train Loss: 0.3330 Acc: 0.7917 | Val Loss: 0.2415 Acc: 0.8523 BalAcc: 0.7576 MacroF1: 0.7717 | LR: 0.000053\n"
     ]
    },
    {
     "name": "stderr",
     "output_type": "stream",
     "text": [
      "                                                                                               "
     ]
    },
    {
     "name": "stdout",
     "output_type": "stream",
     "text": [
      "Epoch 043/60 | Train Loss: 0.3371 Acc: 0.7831 | Val Loss: 0.2954 Acc: 0.8543 BalAcc: 0.7584 MacroF1: 0.7763 | LR: 0.000049\n"
     ]
    },
    {
     "name": "stderr",
     "output_type": "stream",
     "text": [
      "                                                                                               "
     ]
    },
    {
     "name": "stdout",
     "output_type": "stream",
     "text": [
      "Epoch 044/60 | Train Loss: 0.3251 Acc: 0.7854 | Val Loss: 0.2469 Acc: 0.8602 BalAcc: 0.7702 MacroF1: 0.7838 | LR: 0.000045\n"
     ]
    },
    {
     "name": "stderr",
     "output_type": "stream",
     "text": [
      "                                                                                               "
     ]
    },
    {
     "name": "stdout",
     "output_type": "stream",
     "text": [
      "Epoch 045/60 | Train Loss: 0.3281 Acc: 0.7888 | Val Loss: 0.2424 Acc: 0.8478 BalAcc: 0.7622 MacroF1: 0.7746 | LR: 0.000041\n"
     ]
    },
    {
     "name": "stderr",
     "output_type": "stream",
     "text": [
      "                                                                                               "
     ]
    },
    {
     "name": "stdout",
     "output_type": "stream",
     "text": [
      "Epoch 046/60 | Train Loss: 0.3237 Acc: 0.7873 | Val Loss: 0.2225 Acc: 0.8657 BalAcc: 0.7777 MacroF1: 0.7997 | LR: 0.000037\n"
     ]
    },
    {
     "name": "stderr",
     "output_type": "stream",
     "text": [
      "                                                                                               "
     ]
    },
    {
     "name": "stdout",
     "output_type": "stream",
     "text": [
      "Epoch 047/60 | Train Loss: 0.3113 Acc: 0.8021 | Val Loss: 0.2241 Acc: 0.8640 BalAcc: 0.7632 MacroF1: 0.7882 | LR: 0.000033\n"
     ]
    },
    {
     "name": "stderr",
     "output_type": "stream",
     "text": [
      "                                                                                               "
     ]
    },
    {
     "name": "stdout",
     "output_type": "stream",
     "text": [
      "Epoch 048/60 | Train Loss: 0.3124 Acc: 0.7942 | Val Loss: 0.2626 Acc: 0.8444 BalAcc: 0.7603 MacroF1: 0.7817 | LR: 0.000030\n"
     ]
    },
    {
     "name": "stderr",
     "output_type": "stream",
     "text": [
      "                                                                                               "
     ]
    },
    {
     "name": "stdout",
     "output_type": "stream",
     "text": [
      "Epoch 049/60 | Train Loss: 0.3168 Acc: 0.7857 | Val Loss: 0.2623 Acc: 0.8561 BalAcc: 0.7739 MacroF1: 0.7870 | LR: 0.000027\n"
     ]
    },
    {
     "name": "stderr",
     "output_type": "stream",
     "text": [
      "                                                                                               "
     ]
    },
    {
     "name": "stdout",
     "output_type": "stream",
     "text": [
      "Epoch 050/60 | Train Loss: 0.3133 Acc: 0.7973 | Val Loss: 0.2511 Acc: 0.8698 BalAcc: 0.7623 MacroF1: 0.7933 | LR: 0.000024\n"
     ]
    },
    {
     "name": "stderr",
     "output_type": "stream",
     "text": [
      "                                                                                               "
     ]
    },
    {
     "name": "stdout",
     "output_type": "stream",
     "text": [
      "Epoch 051/60 | Train Loss: 0.3168 Acc: 0.7959 | Val Loss: 0.2534 Acc: 0.8568 BalAcc: 0.7634 MacroF1: 0.7850 | LR: 0.000021\n"
     ]
    },
    {
     "name": "stderr",
     "output_type": "stream",
     "text": [
      "                                                                                               "
     ]
    },
    {
     "name": "stdout",
     "output_type": "stream",
     "text": [
      "Epoch 052/60 | Train Loss: 0.2922 Acc: 0.8017 | Val Loss: 0.2331 Acc: 0.8650 BalAcc: 0.7755 MacroF1: 0.7898 | LR: 0.000019\n"
     ]
    },
    {
     "name": "stderr",
     "output_type": "stream",
     "text": [
      "                                                                                               "
     ]
    },
    {
     "name": "stdout",
     "output_type": "stream",
     "text": [
      "Epoch 053/60 | Train Loss: 0.3247 Acc: 0.7791 | Val Loss: 0.2341 Acc: 0.8732 BalAcc: 0.7479 MacroF1: 0.7872 | LR: 0.000017\n"
     ]
    },
    {
     "name": "stderr",
     "output_type": "stream",
     "text": [
      "                                                                                               "
     ]
    },
    {
     "name": "stdout",
     "output_type": "stream",
     "text": [
      "Epoch 054/60 | Train Loss: 0.3122 Acc: 0.7896 | Val Loss: 0.2321 Acc: 0.8698 BalAcc: 0.7629 MacroF1: 0.7944 | LR: 0.000015\n"
     ]
    },
    {
     "name": "stderr",
     "output_type": "stream",
     "text": [
      "                                                                                               "
     ]
    },
    {
     "name": "stdout",
     "output_type": "stream",
     "text": [
      "Epoch 055/60 | Train Loss: 0.3034 Acc: 0.7952 | Val Loss: 0.2248 Acc: 0.8636 BalAcc: 0.7713 MacroF1: 0.7945 | LR: 0.000014\n"
     ]
    },
    {
     "name": "stderr",
     "output_type": "stream",
     "text": [
      "                                                                                               "
     ]
    },
    {
     "name": "stdout",
     "output_type": "stream",
     "text": [
      "Epoch 056/60 | Train Loss: 0.2977 Acc: 0.8008 | Val Loss: 0.2448 Acc: 0.8671 BalAcc: 0.7614 MacroF1: 0.7916 | LR: 0.000012\n",
      "Early stopping triggered at epoch 56. Best Macro F1: 0.7997\n",
      "\n",
      "=== FINAL VALIDATION ===\n",
      "Loss: 0.2225 | Acc: 0.8657 | Balanced Acc: 0.7777 | Macro F1: 0.7997\n",
      "\n",
      "Per-class F1:\n",
      "{'akiec': '0.746', 'bcc': '0.843', 'bkl': '0.738', 'df': '0.792', 'mel': '0.684', 'nv': '0.929', 'vasc': '0.865'}\n",
      "\n",
      "Classification Report:\n",
      "              precision    recall  f1-score   support\n",
      "\n",
      "       akiec       0.82      0.68      0.75        97\n",
      "         bcc       0.83      0.85      0.84       151\n",
      "         bkl       0.65      0.85      0.74       316\n",
      "          df       1.00      0.66      0.79        32\n",
      "         mel       0.66      0.71      0.68       314\n",
      "          nv       0.95      0.91      0.93      1960\n",
      "        vasc       0.97      0.78      0.86        41\n",
      "\n",
      "    accuracy                           0.87      2911\n",
      "   macro avg       0.84      0.78      0.80      2911\n",
      "weighted avg       0.88      0.87      0.87      2911\n",
      "\n"
     ]
    },
    {
     "data": {
      "image/png": "[encoded data removed]",
      "text/plain": [
       "<Figure size 1000x800 with 2 Axes>"
      ]
     },
     "metadata": {},
     "output_type": "display_data"
    },
    {
     "name": "stdout",
     "output_type": "stream",
     "text": [
      "Model saved to: /home/dineshkumarv.22it/effnet_swin_focal_mix_aug_best.pth\n"
     ]
    }
   ],
   "source": [
    "# =============================\n",
    "# INSTALLS\n",
    "# =============================\n",
    "!pip install --quiet timm scikit-learn albumentations==1.4.10 opencv-python\n",
    "\n",
    "# =============================\n",
    "# IMPORTS\n",
    "# =============================\n",
    "import os\n",
    "import gc\n",
    "import math\n",
    "import time\n",
    "import random\n",
    "import numpy as np\n",
    "import matplotlib.pyplot as plt\n",
    "from tqdm import tqdm\n",
    "from collections import Counter, defaultdict\n",
    "\n",
    "import torch\n",
    "import torch.nn as nn\n",
    "import torch.optim as optim\n",
    "from torch.utils.data import Dataset, DataLoader, WeightedRandomSampler\n",
    "from torchvision import transforms\n",
    "from PIL import Image\n",
    "import timm\n",
    "\n",
    "from sklearn.metrics import confusion_matrix, accuracy_score, f1_score, balanced_accuracy_score, classification_report\n",
    "import seaborn as sns\n",
    "\n",
    "import albumentations as A\n",
    "from albumentations.pytorch import ToTensorV2\n",
    "\n",
    "from sklearn.model_selection import train_test_split\n",
    "\n",
    "# =============================\n",
    "# CONFIG\n",
    "# =============================\n",
    "DEVICE = torch.device(\"cuda\" if torch.cuda.is_available() else \"cpu\")\n",
    "DATA_DIR = \"/home/dineshkumarv.22it/preprocessed_data\"\n",
    "IMG_DIR = os.path.join(DATA_DIR, \"images\")\n",
    "ARR_DIR = os.path.join(DATA_DIR, \"arrays\")\n",
    "\n",
    "BATCH_SIZE = 10\n",
    "EPOCHS = 60\n",
    "IMG_SIZE = 224\n",
    "LR = 2e-4\n",
    "WD = 1e-4\n",
    "PATIENCE = 10\n",
    "MIXUP_ALPHA = 0.4\n",
    "CUTMIX_ALPHA = 0.4\n",
    "P_MIXUP = 0.5\n",
    "P_CUTMIX = 0.5\n",
    "SEED = 42\n",
    "FREEZE_WARMUP_EPOCHS = 3\n",
    "\n",
    "torch.backends.cudnn.benchmark = True\n",
    "\n",
    "def set_seed(seed=SEED):\n",
    "    random.seed(seed); np.random.seed(seed)\n",
    "    torch.manual_seed(seed); torch.cuda.manual_seed_all(seed)\n",
    "set_seed()\n",
    "\n",
    "# =============================\n",
    "# LOAD ARRAYS\n",
    "# =============================\n",
    "image_ids = np.load(os.path.join(ARR_DIR, \"image_ids.npy\"), allow_pickle=True)\n",
    "labels = np.load(os.path.join(ARR_DIR, \"y_labels.npy\"), allow_pickle=True)\n",
    "class_names = np.load(os.path.join(ARR_DIR, \"label_classes.npy\"), allow_pickle=True)\n",
    "\n",
    "num_classes = int(len(class_names))\n",
    "print(\"Classes:\", class_names, \"\\n#classes:\", num_classes, \" #images:\", len(image_ids))\n",
    "\n",
    "# =============================\n",
    "# TRANSFORMS\n",
    "# =============================\n",
    "train_tf = A.Compose([\n",
    "    A.Resize(IMG_SIZE, IMG_SIZE),\n",
    "    A.HorizontalFlip(p=0.5),\n",
    "    A.VerticalFlip(p=0.3),\n",
    "    A.RandomRotate90(p=0.3),\n",
    "    A.Affine(scale=(0.9, 1.1), translate_percent=(0.05, 0.05), rotate=(-15, 15), p=0.5),\n",
    "    A.ColorJitter(p=0.3),\n",
    "    A.RandomBrightnessContrast(p=0.3),\n",
    "    A.CLAHE(p=0.2),\n",
    "    A.GaussianBlur(blur_limit=(3, 5), p=0.2),\n",
    "    A.CoarseDropout(\n",
    "        min_holes=1, max_holes=8,\n",
    "        min_height=8, max_height=16,\n",
    "        min_width=8, max_width=16,\n",
    "        fill_value=0, p=0.5\n",
    "    ),\n",
    "    A.Normalize(mean=(0.5, 0.5, 0.5), std=(0.5, 0.5, 0.5)),\n",
    "    ToTensorV2(),\n",
    "])\n",
    "\n",
    "\n",
    "val_tf = A.Compose([\n",
    "    A.Resize(IMG_SIZE, IMG_SIZE),\n",
    "    A.Normalize(mean=(0.5, 0.5, 0.5), std=(0.5, 0.5, 0.5)),\n",
    "    ToTensorV2(),\n",
    "])\n",
    "\n",
    "# =============================\n",
    "# DATASET\n",
    "# =============================\n",
    "class SkinDataset(Dataset):\n",
    "    def __init__(self, image_ids, labels, img_dir, transform=None):\n",
    "        self.image_ids = list(image_ids)\n",
    "        self.labels = list(labels)\n",
    "        self.img_dir = img_dir\n",
    "        self.transform = transform\n",
    "\n",
    "    def __len__(self):\n",
    "        return len(self.image_ids)\n",
    "\n",
    "    def __getitem__(self, idx):\n",
    "        img_id = self.image_ids[idx]\n",
    "        label = int(self.labels[idx])\n",
    "        img_path = os.path.join(self.img_dir, img_id + \".jpg\")\n",
    "        try:\n",
    "            img = Image.open(img_path).convert(\"RGB\")\n",
    "        except Exception:\n",
    "            img = Image.new(\"RGB\", (IMG_SIZE, IMG_SIZE), (0, 0, 0))\n",
    "        img = np.array(img)\n",
    "        if self.transform:\n",
    "            img = self.transform(image=img)[\"image\"]\n",
    "        return img, torch.tensor(label, dtype=torch.long)\n",
    "\n",
    "# =============================\n",
    "# SPLIT TRAIN/VAL\n",
    "# =============================\n",
    "train_ids, val_ids, train_labels, val_labels = train_test_split(\n",
    "    image_ids, labels, test_size=0.3, stratify=labels, random_state=SEED\n",
    ")\n",
    "\n",
    "train_dataset = SkinDataset(train_ids, train_labels, IMG_DIR, transform=train_tf)\n",
    "val_dataset = SkinDataset(val_ids, val_labels, IMG_DIR, transform=val_tf)\n",
    "\n",
    "# =============================\n",
    "# HANDLE IMBALANCE\n",
    "# =============================\n",
    "class_counts = Counter(train_labels)\n",
    "class_weights = {cls: 1.0 / max(1, count) for cls, count in class_counts.items()}\n",
    "sample_weights = [class_weights[int(l)] for l in train_labels]\n",
    "sampler = WeightedRandomSampler(sample_weights, num_samples=len(sample_weights), replacement=True)\n",
    "\n",
    "train_loader = DataLoader(train_dataset, batch_size=BATCH_SIZE, sampler=sampler, num_workers=2, pin_memory=True, drop_last=True)\n",
    "val_loader = DataLoader(val_dataset, batch_size=BATCH_SIZE, shuffle=False, num_workers=2, pin_memory=True)\n",
    "\n",
    "# =============================\n",
    "# MIXUP / CUTMIX HELPERS\n",
    "# =============================\n",
    "def rand_bbox(W, H, lam):\n",
    "    cut_w = int(W * math.sqrt(1 - lam))\n",
    "    cut_h = int(H * math.sqrt(1 - lam))\n",
    "    cx = np.random.randint(W)\n",
    "    cy = np.random.randint(H)\n",
    "    x1 = np.clip(cx - cut_w // 2, 0, W)\n",
    "    y1 = np.clip(cy - cut_h // 2, 0, H)\n",
    "    x2 = np.clip(cx + cut_w // 2, 0, W)\n",
    "    y2 = np.clip(cy + cut_h // 2, 0, H)\n",
    "    return x1, y1, x2, y2\n",
    "\n",
    "def apply_mixup_cutmix(images, targets, mixup_alpha=MIXUP_ALPHA, cutmix_alpha=CUTMIX_ALPHA,\n",
    "                         p_mixup=P_MIXUP, p_cutmix=P_CUTMIX):\n",
    "    B = images.size(0)\n",
    "    if B < 2:\n",
    "        return images, targets, targets, 1.0, None\n",
    "    mode = None\n",
    "    r = random.random()\n",
    "    if mixup_alpha > 0 and r < p_mixup:\n",
    "        mode = 'mixup'\n",
    "        lam = np.random.beta(mixup_alpha, mixup_alpha)\n",
    "        index = torch.randperm(B, device=images.device)\n",
    "        mixed = lam * images + (1 - lam) * images[index, :]\n",
    "        return mixed, targets, targets[index], lam, mode\n",
    "    if cutmix_alpha > 0 and r >= p_mixup and r < p_mixup + p_cutmix:\n",
    "        mode = 'cutmix'\n",
    "        lam = np.random.beta(cutmix_alpha, cutmix_alpha)\n",
    "        index = torch.randperm(B, device=images.device)\n",
    "        _, H, W = images.size(1), images.size(2), images.size(3)\n",
    "        x1, y1, x2, y2 = rand_bbox(W, H, lam)\n",
    "        mixed = images.clone()\n",
    "        mixed[:, :, y1:y2, x1:x2] = images[index, :, y1:y2, x1:x2]\n",
    "        lam = 1 - ((x2 - x1) * (y2 - y1) / (W * H))\n",
    "        return mixed, targets, targets[index], lam, mode\n",
    "    return images, targets, targets, 1.0, None\n",
    "\n",
    "# =============================\n",
    "# FOCAL LOSS\n",
    "# =============================\n",
    "class FocalLoss(nn.Module):\n",
    "    def __init__(self, alpha=1.0, gamma=2.0, reduction='mean'):\n",
    "        super().__init__()\n",
    "        self.alpha = alpha\n",
    "        self.gamma = gamma\n",
    "        self.reduction = reduction\n",
    "        self.ce = nn.CrossEntropyLoss(reduction='none')\n",
    "    def forward(self, inputs, targets):\n",
    "        ce = self.ce(inputs, targets)\n",
    "        pt = torch.exp(-ce)\n",
    "        loss = self.alpha * (1 - pt) ** self.gamma * ce\n",
    "        if self.reduction == 'mean':\n",
    "            return loss.mean()\n",
    "        elif self.reduction == 'sum':\n",
    "            return loss.sum()\n",
    "        return loss\n",
    "\n",
    "def mix_criterion(criterion, outputs, y1, y2, lam, mode):\n",
    "    if mode in ('mixup', 'cutmix'):\n",
    "        return lam * criterion(outputs, y1) + (1 - lam) * criterion(outputs, y2)\n",
    "    else:\n",
    "        return criterion(outputs, y1)\n",
    "\n",
    "# =============================\n",
    "# MODEL - MODIFIED FOR EFFICIENTNET + SWIN\n",
    "# =============================\n",
    "class EffNetSwin(nn.Module):\n",
    "    def __init__(self, num_classes):\n",
    "        super().__init__()\n",
    "        # Use EfficientNetV2 as the first backbone\n",
    "        self.effnet = timm.create_model(\"efficientnetv2_rw_s\", pretrained=True, num_classes=0, global_pool=\"avg\")\n",
    "        # Use Swin Transformer as the second backbone\n",
    "        self.swin = timm.create_model(\"swin_base_patch4_window7_224\", pretrained=True, num_classes=0, global_pool=\"avg\")\n",
    "        \n",
    "        feat_dim = self.effnet.num_features + self.swin.num_features\n",
    "        self.head = nn.Sequential(\n",
    "            nn.Linear(feat_dim, 768),\n",
    "            nn.ReLU(inplace=True),\n",
    "            nn.Dropout(0.4),\n",
    "            nn.Linear(768, 512),\n",
    "            nn.ReLU(inplace=True),\n",
    "            nn.Dropout(0.3),\n",
    "            nn.Linear(512, num_classes)\n",
    "        )\n",
    "    def forward(self, x):\n",
    "        f1 = self.effnet(x)\n",
    "        f2 = self.swin(x)\n",
    "        out = torch.cat([f1, f2], dim=1)\n",
    "        return self.head(out)\n",
    "\n",
    "# Instantiate the new model\n",
    "model = EffNetSwin(num_classes).to(DEVICE)\n",
    "\n",
    "def set_backbone_grad(enabled: bool):\n",
    "    for p in model.effnet.parameters():\n",
    "        p.requires_grad = enabled\n",
    "    for p in model.swin.parameters():\n",
    "        p.requires_grad = enabled\n",
    "set_backbone_grad(False)\n",
    "\n",
    "# =============================\n",
    "# OPTIMIZER + SCHEDULER\n",
    "# =============================\n",
    "optimizer = optim.AdamW(filter(lambda p: p.requires_grad, model.parameters()), lr=LR, weight_decay=WD)\n",
    "scheduler = optim.lr_scheduler.CosineAnnealingLR(optimizer, T_max=EPOCHS, eta_min=LR * 0.05)\n",
    "criterion = FocalLoss(alpha=1.0, gamma=2.0).to(DEVICE)\n",
    "\n",
    "# =============================\n",
    "# TRAINING LOOP\n",
    "# =============================\n",
    "best_val_f1 = -1.0\n",
    "best_state = None\n",
    "patience_counter = 0\n",
    "\n",
    "def evaluate(model, loader, device=DEVICE):\n",
    "    model.eval()\n",
    "    y_true, y_pred = [], []\n",
    "    val_loss = 0.0\n",
    "    with torch.no_grad():\n",
    "        for imgs, lbls in loader:\n",
    "            imgs = imgs.to(device, non_blocking=True)\n",
    "            lbls = lbls.to(device, non_blocking=True)\n",
    "            out = model(imgs)\n",
    "            loss = criterion(out, lbls)\n",
    "            val_loss += loss.item() * imgs.size(0)\n",
    "            preds = out.argmax(dim=1)\n",
    "            y_true.extend(lbls.cpu().numpy().tolist())\n",
    "            y_pred.extend(preds.cpu().numpy().tolist())\n",
    "    y_true = np.array(y_true)\n",
    "    y_pred = np.array(y_pred)\n",
    "    acc = accuracy_score(y_true, y_pred)\n",
    "    bacc = balanced_accuracy_score(y_true, y_pred)\n",
    "    mf1 = f1_score(y_true, y_pred, average='macro')\n",
    "    return val_loss / len(loader.dataset), acc, bacc, mf1, y_true, y_pred\n",
    "\n",
    "scaler = torch.amp.GradScaler(\"cuda\", enabled=torch.cuda.is_available())\n",
    "\n",
    "for epoch in range(1, EPOCHS + 1):\n",
    "    model.train()\n",
    "    running_loss, correct, total = 0.0, 0, 0\n",
    "    if epoch == FREEZE_WARMUP_EPOCHS + 1:\n",
    "        set_backbone_grad(True)\n",
    "        optimizer = optim.AdamW(model.parameters(), lr=LR, weight_decay=WD)\n",
    "        scheduler = optim.lr_scheduler.CosineAnnealingLR(optimizer, T_max=EPOCHS - epoch + 1, eta_min=LR * 0.05)\n",
    "    pbar = tqdm(train_loader, desc=f\"Epoch {epoch}/{EPOCHS} [Train]\", leave=False)\n",
    "    for imgs, lbls in pbar:\n",
    "        imgs = imgs.to(DEVICE, non_blocking=True)\n",
    "        lbls = lbls.to(DEVICE, non_blocking=True)\n",
    "        imgs_mixed, y1, y2, lam, mode = apply_mixup_cutmix(imgs, lbls)\n",
    "        optimizer.zero_grad(set_to_none=True)\n",
    "        with torch.amp.autocast(\"cuda\", enabled=torch.cuda.is_available()):\n",
    "            outputs = model(imgs_mixed)\n",
    "            loss = mix_criterion(criterion, outputs, y1, y2, lam, mode)\n",
    "        scaler.scale(loss).backward()\n",
    "        scaler.step(optimizer)\n",
    "        scaler.update()\n",
    "        running_loss += loss.item() * imgs.size(0)\n",
    "        \n",
    "        preds = outputs.argmax(dim=1)\n",
    "        if mode in ('mixup', 'cutmix'):\n",
    "            correct += (preds == y1).sum().item() * lam + (preds == y2).sum().item() * (1 - lam)\n",
    "        else:\n",
    "            correct += (preds == lbls).sum().item()\n",
    "\n",
    "        total += lbls.size(0)\n",
    "        pbar.set_postfix(loss=f\"{running_loss / total:.4f}\", acc=f\"{correct / total:.4f}\")\n",
    "    \n",
    "    scheduler.step()\n",
    "    val_loss, val_acc, val_bacc, val_mf1, y_true, y_pred = evaluate(model, val_loader)\n",
    "    train_loss = running_loss / len(train_loader.dataset)\n",
    "    train_acc = correct / len(train_loader.dataset)\n",
    "    print(f\"Epoch {epoch:03d}/{EPOCHS} | \"\n",
    "          f\"Train Loss: {train_loss:.4f} Acc: {train_acc:.4f} | \"\n",
    "          f\"Val Loss: {val_loss:.4f} Acc: {val_acc:.4f} BalAcc: {val_bacc:.4f} MacroF1: {val_mf1:.4f} | \"\n",
    "          f\"LR: {scheduler.get_last_lr()[0]:.6f}\")\n",
    "    if val_mf1 > best_val_f1:\n",
    "        best_val_f1 = val_mf1\n",
    "        best_state = {k: v.cpu().clone() for k, v in model.state_dict().items()}\n",
    "        patience_counter = 0\n",
    "    else:\n",
    "        patience_counter += 1\n",
    "        if patience_counter >= PATIENCE:\n",
    "            print(f\"Early stopping triggered at epoch {epoch}. Best Macro F1: {best_val_f1:.4f}\")\n",
    "            break\n",
    "\n",
    "# =============================\n",
    "# LOAD BEST & FINAL EVAL\n",
    "# =============================\n",
    "if best_state is not None:\n",
    "    model.load_state_dict(best_state)\n",
    "\n",
    "val_loss, val_acc, val_bacc, val_mf1, y_true, y_pred = evaluate(model, val_loader)\n",
    "print(\"\\n=== FINAL VALIDATION ===\")\n",
    "print(f\"Loss: {val_loss:.4f} | Acc: {val_acc:.4f} | Balanced Acc: {val_bacc:.4f} | Macro F1: {val_mf1:.4f}\")\n",
    "print(\"\\nPer-class F1:\")\n",
    "print({class_names[i]: f\"{f1:.3f}\" for i, f1 in enumerate(f1_score(y_true, y_pred, average=None))})\n",
    "print(\"\\nClassification Report:\")\n",
    "print(classification_report(y_true, y_pred, target_names=[str(c) for c in class_names]))\n",
    "\n",
    "# =============================\n",
    "# CONFUSION MATRIX\n",
    "# =============================\n",
    "cm = confusion_matrix(y_true, y_pred)\n",
    "plt.figure(figsize=(10, 8))\n",
    "sns.heatmap(cm, annot=True, fmt=\"d\", cmap=\"Blues\",\n",
    "            xticklabels=class_names, yticklabels=class_names)\n",
    "plt.xlabel(\"Predicted\")\n",
    "plt.ylabel(\"True\")\n",
    "plt.title(\"Confusion Matrix\")\n",
    "plt.tight_layout()\n",
    "plt.show()\n",
    "\n",
    "# =============================\n",
    "# SAVE MODEL\n",
    "# =============================\n",
    "save_path = \"/home/dineshkumarv.22it/effnet_swin_focal_mix_aug_best.pth\"\n",
    "torch.save(model.state_dict(), save_path)\n",
    "print(\"Model saved to:\", save_path)\n",
    "\n",
    "gc.collect()\n",
    "torch.cuda.empty_cache()"
   ]
  }
 ],
 "metadata": {
  "kernelspec": {
   "display_name": "Python 3 (ipykernel)",
   "language": "python",
   "name": "python3"
  },
  "language_info": {
   "codemirror_mode": {
    "name": "ipython",
    "version": 3
   },
   "file_extension": ".py",
   "mimetype": "text/x-python",
   "name": "python",
   "nbconvert_exporter": "python",
   "pygments_lexer": "ipython3",
   "version": "3.12.2"
  }
 },
 "nbformat": 4,
 "nbformat_minor": 5
}
